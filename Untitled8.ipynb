{
  "nbformat": 4,
  "nbformat_minor": 0,
  "metadata": {
    "colab": {
      "provenance": [],
      "authorship_tag": "ABX9TyM4UMcRTkakno+Ae6OADoqw",
      "include_colab_link": true
    },
    "kernelspec": {
      "name": "python3",
      "display_name": "Python 3"
    },
    "language_info": {
      "name": "python"
    }
  },
  "cells": [
    {
      "cell_type": "markdown",
      "metadata": {
        "id": "view-in-github",
        "colab_type": "text"
      },
      "source": [
        "<a href=\"https://colab.research.google.com/github/woohyunjung/m1/blob/main/Untitled8.ipynb\" target=\"_parent\"><img src=\"https://colab.research.google.com/assets/colab-badge.svg\" alt=\"Open In Colab\"/></a>"
      ]
    },
    {
      "cell_type": "code",
      "source": [
        "sum = 1+2+3+\\\n",
        "      4+5+6+\\\n",
        "      7+8+9\n",
        "print(sum)"
      ],
      "metadata": {
        "colab": {
          "base_uri": "https://localhost:8080/"
        },
        "id": "gJU41l1A1iTS",
        "outputId": "3f50ebdd-dd1a-4797-c3ed-f50fa307a3f4"
      },
      "execution_count": null,
      "outputs": [
        {
          "output_type": "stream",
          "name": "stdout",
          "text": [
            "45\n"
          ]
        }
      ]
    },
    {
      "cell_type": "code",
      "source": [
        "tup=(1+2+3+\n",
        "     4+5+6+\n",
        "     7+8+9)\n",
        "print(tup)"
      ],
      "metadata": {
        "colab": {
          "base_uri": "https://localhost:8080/"
        },
        "id": "Kw_Zd_iT1iLr",
        "outputId": "1518a6d9-f14f-4a79-9bf5-04a7fd3a2347"
      },
      "execution_count": null,
      "outputs": [
        {
          "output_type": "stream",
          "name": "stdout",
          "text": [
            "45\n"
          ]
        }
      ]
    },
    {
      "cell_type": "code",
      "source": [
        "a=1\n",
        "b=2\n",
        "print(a,b)\n",
        "print(a,b,sep=\"/\")\n",
        "print(a,b,end=\"/\")"
      ],
      "metadata": {
        "colab": {
          "base_uri": "https://localhost:8080/"
        },
        "id": "Z6UMfWSv1iDH",
        "outputId": "1fee3f8d-9f8e-4a37-9abd-b91693d0a34a"
      },
      "execution_count": null,
      "outputs": [
        {
          "output_type": "stream",
          "name": "stdout",
          "text": [
            "1 2\n",
            "1/2\n",
            "1 2/"
          ]
        }
      ]
    },
    {
      "cell_type": "code",
      "source": [
        "string = \"Hello Python, enjoy coding\"\n",
        "\n",
        "print(string.upper())\n",
        "print(string.lower())\n",
        "print(string.title())\n",
        "\n",
        "print(string.endswith(\"p\"))\n",
        "print(string.startswith(\"h\"))\n",
        "print(string.lower().startswith(\"h\"))\n",
        "\n",
        "list_string = string.split()\n",
        "print(list_string)\n",
        "\n",
        "list_string2 = string.split(\",\")\n",
        "print(list_string2)\n",
        "\n",
        "fill_string = string.zfill(20)\n",
        "print(fill_string)"
      ],
      "metadata": {
        "colab": {
          "base_uri": "https://localhost:8080/"
        },
        "id": "uhQQrRfs1h06",
        "outputId": "a3ecd7c3-8839-4d04-c46b-c909970f343c"
      },
      "execution_count": null,
      "outputs": [
        {
          "output_type": "stream",
          "name": "stdout",
          "text": [
            "HELLO PYTHON, ENJOY CODING\n",
            "hello python, enjoy coding\n",
            "Hello Python, Enjoy Coding\n",
            "False\n",
            "False\n",
            "True\n",
            "['Hello', 'Python,', 'enjoy', 'coding']\n",
            "['Hello Python', ' enjoy coding']\n",
            "Hello Python, enjoy coding\n"
          ]
        }
      ]
    },
    {
      "cell_type": "code",
      "source": [
        "list_a=[5,6,3,2,7,8,9]\n",
        "print(\"5의 위치:\",list_a.index(5))\n",
        "\n",
        "list_a.sort()\n",
        "print(list_a)\n",
        "\n",
        "list_a.reverse()\n",
        "print(list_a)\n",
        "\n",
        "list_a.pop()\n",
        "print(list_a)\n",
        "\n",
        "list_a.remove(5)\n",
        "print(list_a)\n",
        "\n",
        "print(list_a.count(1))\n"
      ],
      "metadata": {
        "colab": {
          "base_uri": "https://localhost:8080/"
        },
        "id": "0Wxug8lu1vPM",
        "outputId": "a54daa53-bce3-469f-d953-0f456cf511c0"
      },
      "execution_count": null,
      "outputs": [
        {
          "output_type": "stream",
          "name": "stdout",
          "text": [
            "5의 위치: 0\n",
            "[2, 3, 5, 6, 7, 8, 9]\n",
            "[9, 8, 7, 6, 5, 3, 2]\n",
            "[9, 8, 7, 6, 5, 3]\n",
            "[9, 8, 7, 6, 3]\n",
            "0\n"
          ]
        }
      ]
    },
    {
      "cell_type": "code",
      "execution_count": null,
      "metadata": {
        "colab": {
          "base_uri": "https://localhost:8080/"
        },
        "id": "V_ZqF7KJ0ndY",
        "outputId": "ce94498a-7798-4e21-dddd-f1b96cbfc808"
      },
      "outputs": [
        {
          "output_type": "stream",
          "name": "stdout",
          "text": [
            "8\n",
            "34\n",
            "2\n",
            "83\n",
            "['p', 'y', 't', 'h', 'o', 'n']\n"
          ]
        }
      ],
      "source": [
        "list_b=[34,5,6,7,22,2,3,4]\n",
        "\n",
        "print(len(list_b))\n",
        "print(max(list_b))\n",
        "print(min(list_b))\n",
        "print(sum(list_b))\n",
        "\n",
        "string = \"python\"\n",
        "print(list(string))"
      ]
    },
    {
      "cell_type": "code",
      "source": [
        "A = {1, 2, 3, 4, 5, 6}\n",
        "B = {1, 2, 3, 7, 8, 9}\n",
        "\n",
        "# 합집합\n",
        "print(A | B, '-> A | B')\n",
        "print(A.union(B), '-> A.union(B)')\n",
        "print(B.union(A), '-> B.union(A)')\n",
        "print(A, '-> A')\n",
        "print()\n",
        "\n",
        "# 교집합\n",
        "print(A & B, '-> A & B')\n",
        "print(A.intersection(B), '-> A.intersection(B)')\n",
        "print()\n",
        "\n",
        "# 차집합\n",
        "print(A - B, '-> A - B')\n",
        "print(A.difference(B), '-> A.difference(B)')\n",
        "print()\n",
        "\n",
        "# 대칭차집합\n",
        "print(A ^ B, '-> A ^ B')\n",
        "print(A.symmetric_difference(B), '-> A.symmetric_difference(B)')\n",
        "print()\n",
        "\n",
        "# 부분집합\n",
        "print({4, 5, 6} <= A)\n",
        "print({4, 5, 6}.issubset(A))\n",
        "print({1, 2, 3, 4, 5, 6} >= A)\n",
        "print({1, 2, 3, 4, 5, 6}.issuperset(A))"
      ],
      "metadata": {
        "colab": {
          "base_uri": "https://localhost:8080/"
        },
        "id": "QapMJlK81zwz",
        "outputId": "192416b3-d656-4e0e-95cf-a4b01b42543e"
      },
      "execution_count": null,
      "outputs": [
        {
          "output_type": "stream",
          "name": "stdout",
          "text": [
            "{1, 2, 3, 4, 5, 6, 7, 8, 9} -> A | B\n",
            "{1, 2, 3, 4, 5, 6, 7, 8, 9} -> A.union(B)\n",
            "{1, 2, 3, 4, 5, 6, 7, 8, 9} -> B.union(A)\n",
            "{1, 2, 3, 4, 5, 6} -> A\n",
            "\n",
            "{1, 2, 3} -> A & B\n",
            "{1, 2, 3} -> A.intersection(B)\n",
            "\n",
            "{4, 5, 6} -> A - B\n",
            "{4, 5, 6} -> A.difference(B)\n",
            "\n",
            "{4, 5, 6, 7, 8, 9} -> A ^ B\n",
            "{4, 5, 6, 7, 8, 9} -> A.symmetric_difference(B)\n",
            "\n",
            "True\n",
            "True\n",
            "True\n",
            "True\n"
          ]
        }
      ]
    },
    {
      "cell_type": "code",
      "source": [
        "print('{0}, {1}'.format('하나','둘'))\n",
        "print('{0}, {1}, {2}'.format(1, 2, [3,4,5]))\n",
        "print('칸이 비어도 {}, {}, {}'.format('하나', '둘', '셋'))\n",
        "print()\n",
        "\n",
        "print('{2}, {1}, {0}'.format('a', 'b', 'c'))\n",
        "print('{0}{1}{0}'.format('오렌지', '를 먹은 지 얼마나 '))\n",
        "print()\n",
        "\n",
        "print('체질량지수(BMI)를 계산해 보아요')\n",
        "\n",
        "weight = int(input('체중을 입력하세요: '))\n",
        "height = float(input('키를 입력하세요: '))\n",
        "print(\"bmi = \",weight/(height*height))\n"
      ],
      "metadata": {
        "colab": {
          "base_uri": "https://localhost:8080/"
        },
        "id": "Bxt5VsKn1zrp",
        "outputId": "01915cf8-b3ff-4721-c030-e39d40c6ab39"
      },
      "execution_count": null,
      "outputs": [
        {
          "output_type": "stream",
          "name": "stdout",
          "text": [
            "하나, 둘\n",
            "1, 2, [3, 4, 5]\n",
            "칸이 비어도 하나, 둘, 셋\n",
            "\n",
            "c, b, a\n",
            "오렌지를 먹은 지 얼마나 오렌지\n",
            "\n",
            "체질량지수(BMI)를 계산해 보아요\n",
            "체중을 입력하세요: 50\n",
            "키를 입력하세요: 160\n",
            "bmi =  0.001953125\n"
          ]
        }
      ]
    },
    {
      "cell_type": "code",
      "source": [
        "print('햄버거를 만들어보자.')\n",
        "\n",
        "basemat = ('빵', '토마토', '야채', '소스')\n",
        "coremat = ('새우', '불고기', '한우', '치즈')\n",
        "\n",
        "print('{food}의 기본재료는 {base}임'.format(food='햄버거', base=basemat),\"\\n\")\n",
        "\n",
        "for item in coremat:\n",
        "    print('핵심재료가 {core}면 {core}버거'.format(core=item))"
      ],
      "metadata": {
        "colab": {
          "base_uri": "https://localhost:8080/"
        },
        "id": "rk_8jWVl1zm5",
        "outputId": "b139b853-be37-4f3c-ac62-3b77c4a84afb"
      },
      "execution_count": null,
      "outputs": [
        {
          "output_type": "stream",
          "name": "stdout",
          "text": [
            "햄버거를 만들어보자.\n",
            "햄버거의 기본재료는 ('빵', '토마토', '야채', '소스')임 \n",
            "\n",
            "핵심재료가 새우면 새우버거\n",
            "핵심재료가 불고기면 불고기버거\n",
            "핵심재료가 한우면 한우버거\n",
            "핵심재료가 치즈면 치즈버거\n"
          ]
        }
      ]
    },
    {
      "cell_type": "code",
      "source": [
        "a = int(input(\"첫번째 숫자는?:\"))\n",
        "b = int(input(\"두번째 숫자는?:\"))\n",
        "\n",
        "if a>b:\n",
        "    print(\"a>b\")\n",
        "\n",
        "else:\n",
        "    print(\"a<b\")\n"
      ],
      "metadata": {
        "colab": {
          "base_uri": "https://localhost:8080/"
        },
        "id": "D9Fu9zTn1zhR",
        "outputId": "231a7a9d-cbcb-462e-d4ec-591e0ead645a"
      },
      "execution_count": null,
      "outputs": [
        {
          "output_type": "stream",
          "name": "stdout",
          "text": [
            "첫번째 숫자는?:4\n",
            "두번째 숫자는?:5\n",
            "a<b\n"
          ]
        }
      ]
    },
    {
      "cell_type": "code",
      "source": [
        "a = int(input(\"1st num:\"))\n",
        "b = int(input(\"2nd num:\"))\n",
        "c = int(input(\"3rd num:\"))\n",
        "\n",
        "if a%2 == 1:\n",
        "    print(a)\n",
        "if b%2 == 1:\n",
        "    print(b)\n",
        "if c%2 == 1:\n",
        "    print(c)"
      ],
      "metadata": {
        "colab": {
          "base_uri": "https://localhost:8080/"
        },
        "id": "NCF5vE9O1zbA",
        "outputId": "c56c543d-1922-497b-9dc2-04a2e739944e"
      },
      "execution_count": null,
      "outputs": [
        {
          "output_type": "stream",
          "name": "stdout",
          "text": [
            "1st num:4\n",
            "2nd num:5\n",
            "3rd num:7\n",
            "5\n",
            "7\n"
          ]
        }
      ]
    },
    {
      "cell_type": "code",
      "source": [
        "for i in range(7, 10):\n",
        "\tprint(i)\n",
        "print(\"=======================\")\n",
        "for i in range(7, 36 ,3):\n",
        "\tprint(i)"
      ],
      "metadata": {
        "colab": {
          "base_uri": "https://localhost:8080/"
        },
        "id": "r2KEzl2F1zUE",
        "outputId": "b7c5f2b0-0032-424a-d8ae-97e2460c8ccf"
      },
      "execution_count": null,
      "outputs": [
        {
          "output_type": "stream",
          "name": "stdout",
          "text": [
            "7\n",
            "8\n",
            "9\n",
            "=======================\n",
            "7\n",
            "10\n",
            "13\n",
            "16\n",
            "19\n",
            "22\n",
            "25\n",
            "28\n",
            "31\n",
            "34\n"
          ]
        }
      ]
    },
    {
      "cell_type": "code",
      "source": [
        "for i in range(10, 0, -1):\n",
        "\tprint(i)\n",
        "\n",
        "print(\"end\")"
      ],
      "metadata": {
        "colab": {
          "base_uri": "https://localhost:8080/"
        },
        "id": "nog4bpGd1zMD",
        "outputId": "e94af7fe-5eb1-4a0c-95a0-52eba16087d2"
      },
      "execution_count": null,
      "outputs": [
        {
          "output_type": "stream",
          "name": "stdout",
          "text": [
            "10\n",
            "9\n",
            "8\n",
            "7\n",
            "6\n",
            "5\n",
            "4\n",
            "3\n",
            "2\n",
            "1\n",
            "end\n"
          ]
        }
      ]
    },
    {
      "cell_type": "code",
      "source": [
        "i = 1\n",
        "while i<11 :\n",
        "    print(i)\n",
        "    i += 1\n",
        "\n",
        "print(\"end\")"
      ],
      "metadata": {
        "colab": {
          "base_uri": "https://localhost:8080/"
        },
        "id": "6iWz6we61zBX",
        "outputId": "2138a9da-bb3b-4d74-fb27-a7635341097c"
      },
      "execution_count": null,
      "outputs": [
        {
          "output_type": "stream",
          "name": "stdout",
          "text": [
            "1\n",
            "2\n",
            "3\n",
            "4\n",
            "5\n",
            "6\n",
            "7\n",
            "8\n",
            "9\n",
            "10\n",
            "end\n"
          ]
        }
      ]
    },
    {
      "cell_type": "code",
      "source": [
        "n = int(input())\n",
        "sum = 0\n",
        "\n",
        "\n",
        "for i in range(1,n+1):\n",
        "    sum += i\n",
        "\n",
        "\n",
        "print(\"1부터\",n,\"까지의 합은?\",sum)"
      ],
      "metadata": {
        "colab": {
          "base_uri": "https://localhost:8080/"
        },
        "id": "Gub2Y9X_2a-s",
        "outputId": "e53f6821-467d-4d07-b0f8-777f13b720a0"
      },
      "execution_count": null,
      "outputs": [
        {
          "output_type": "stream",
          "name": "stdout",
          "text": [
            "7\n",
            "1부터 7 까지의 합은? 28\n"
          ]
        }
      ]
    },
    {
      "cell_type": "code",
      "source": [
        "n = int(input())\n",
        "sum = 0\n",
        "i = 0\n",
        "\n",
        "while i<=n:\n",
        "    sum += i\n",
        "    i +=1\n",
        "\n",
        "print(\"1부터\",n,\"까지의 합은?\",sum)"
      ],
      "metadata": {
        "colab": {
          "base_uri": "https://localhost:8080/"
        },
        "id": "WICgy1gc2axV",
        "outputId": "458df6e6-74f0-4033-961a-c48d9dd9c19c"
      },
      "execution_count": null,
      "outputs": [
        {
          "output_type": "stream",
          "name": "stdout",
          "text": [
            "7\n",
            "1부터 7 까지의 합은? 28\n"
          ]
        }
      ]
    },
    {
      "cell_type": "code",
      "source": [
        "while True:\n",
        "\tn = int(input())\n",
        "\tif n>=0:\n",
        "\t\tprint(\"num?:\",n)\n",
        "\telse:\n",
        "\t\tprint(\"end\")\n",
        "\t\tbreak"
      ],
      "metadata": {
        "colab": {
          "base_uri": "https://localhost:8080/"
        },
        "id": "ihMJo4tp2ao_",
        "outputId": "55ac1184-c4c2-4359-ee6d-c45b2ad59f22"
      },
      "execution_count": null,
      "outputs": [
        {
          "output_type": "stream",
          "name": "stdout",
          "text": [
            "7\n",
            "num?: 7\n",
            "8\n",
            "num?: 8\n",
            "6\n",
            "num?: 6\n",
            "2\n",
            "num?: 2\n",
            "1\n",
            "num?: 1\n",
            "9\n",
            "num?: 9\n",
            "-1\n",
            "end\n"
          ]
        }
      ]
    }
  ]
}